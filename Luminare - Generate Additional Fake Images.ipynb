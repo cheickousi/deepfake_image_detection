{
 "cells": [
  {
   "cell_type": "markdown",
   "id": "68e4d3f8",
   "metadata": {},
   "source": [
    "# StyleGAN3"
   ]
  },
  {
   "cell_type": "code",
   "execution_count": null,
   "id": "d7f93697",
   "metadata": {},
   "outputs": [],
   "source": [
    "!pip3 install tensorflow\n",
    "!git clone https://github.com/NVlabs/stylegan3.git\n",
    "%cd stylegan3"
   ]
  },
  {
   "cell_type": "code",
   "execution_count": null,
   "id": "a4d4f739",
   "metadata": {},
   "outputs": [],
   "source": [
    "# Load Pre-trained StyleGAN3 Model using the FFHQ dataset for generating faces\n",
    "\n",
    "import dnnlib\n",
    "import numpy as np\n",
    "import PIL.Image\n",
    "from tqdm import tqdm\n",
    "import legacy\n",
    "import torch\n",
    "\n",
    "# Ensure PyTorch is using the CPU\n",
    "device = torch.device('cpu')\n",
    "\n",
    "# Load pre-trained network\n",
    "url = 'https://api.ngc.nvidia.com/v2/models/nvidia/research/stylegan3/versions/1/files/stylegan3-t-ffhq-1024x1024.pkl'\n",
    "with dnnlib.util.open_url(url) as f:\n",
    "    G = legacy.load_network_pkl(f)['G_ema'].to(device) \n",
    "\n",
    "# Generate images\n",
    "for i in range(5): \n",
    "    # Generate latent vector\n",
    "    z = np.random.randn(1, G.z_dim)\n",
    "    z = torch.from_numpy(z).to(device)  # Convert to torch tensor and move to CPU\n",
    "\n",
    "    # Generate image\n",
    "    img = G(z, None)  # Generate images from latent vectors\n",
    "    img = (img * 127.5 + 128).clamp(0, 255).to(torch.uint8)\n",
    "    img = img.permute(0, 2, 3, 1)[0].cpu().numpy()  # Convert to numpy array\n",
    "\n",
    "    # Save image\n",
    "    PIL.Image.fromarray(img, 'RGB').save(f'fake_face_sg3_{i}.png')"
   ]
  },
  {
   "cell_type": "markdown",
   "id": "95642752",
   "metadata": {},
   "source": [
    "# Stable Diffusion"
   ]
  },
  {
   "cell_type": "code",
   "execution_count": null,
   "id": "81e6759d",
   "metadata": {},
   "outputs": [],
   "source": [
    "!pip3 install diffusers transformers scipy"
   ]
  },
  {
   "cell_type": "code",
   "execution_count": null,
   "id": "fe2bd684",
   "metadata": {},
   "outputs": [],
   "source": [
    "from diffusers import StableDiffusionPipeline\n",
    "\n",
    "# Load the model, requires Hugging Face token\n",
    "pipe = StableDiffusionPipeline.from_pretrained(\"CompVis/stable-diffusion-v1-4\", \n",
    "                                               use_auth_token=True)\n",
    "pipe = pipe.to(\"cuda\")"
   ]
  },
  {
   "cell_type": "code",
   "execution_count": null,
   "id": "7503af79",
   "metadata": {},
   "outputs": [],
   "source": [
    "prompt = \"A passport photo\" \n",
    "with torch.no_grad():\n",
    "    for i in range(5): # generate 5 images\n",
    "        image = pipe(prompt).images[0]\n",
    "        image.save(f\"fake_face_sd_{i}.png\")"
   ]
  }
 ],
 "metadata": {
  "kernelspec": {
   "display_name": "Python 3 (ipykernel)",
   "language": "python",
   "name": "python3"
  },
  "language_info": {
   "codemirror_mode": {
    "name": "ipython",
    "version": 3
   },
   "file_extension": ".py",
   "mimetype": "text/x-python",
   "name": "python",
   "nbconvert_exporter": "python",
   "pygments_lexer": "ipython3",
   "version": "3.10.7"
  }
 },
 "nbformat": 4,
 "nbformat_minor": 5
}
