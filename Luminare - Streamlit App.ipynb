{
 "cells": [
  {
   "cell_type": "code",
   "execution_count": null,
   "id": "ff818650",
   "metadata": {},
   "outputs": [],
   "source": [
    "%%writefile luminare_app.py\n",
    "\n",
    "import streamlit as st\n",
    "import requests"
   ]
  },
  {
   "cell_type": "code",
   "execution_count": null,
   "id": "c836f993",
   "metadata": {},
   "outputs": [],
   "source": [
    "def main():\n",
    "    st.title('Luminare - Face Image Verification')\n",
    "\n",
    "    uploaded_file = st.file_uploader(\"Upload an image of a human face to check if it's real or AI-generated\", type=[\"jpg\", \"jpeg\", \"png\"])\n",
    "\n",
    "    if uploaded_file is not None:\n",
    "        # Display the uploaded image\n",
    "        st.image(uploaded_file, caption='Uploaded Image', use_column_width=True)\n",
    "\n",
    "        # Replace 'API_ENDPOINT' and 'API_KEY' with API details\n",
    "        # response = requests.post('API_ENDPOINT', files={'image': uploaded_file}, headers={'Authorization': 'Bearer API_KEY'})\n",
    "\n",
    "        # For demonstration, let's assume the API response is a dummy dictionary\n",
    "        response = {'status': 'Success', 'result': 'Real'}\n",
    "\n",
    "        if response['status'] == 'Success':\n",
    "            result = response['result']\n",
    "            st.success(f'Verification Complete: The image is {result}')\n",
    "        else:\n",
    "            st.error('Failed to verify the image')\n",
    "\n",
    "if __name__ == \"__main__\":\n",
    "    main()"
   ]
  },
  {
   "cell_type": "code",
   "execution_count": null,
   "id": "eb15463f",
   "metadata": {},
   "outputs": [],
   "source": [
    "from pyngrok import ngrok\n",
    "import os\n",
    "\n",
    "# Terminate open tunnels if exist\n",
    "ngrok.kill()\n",
    "\n",
    "# Setup a new ngrok tunnel for the Streamlit app\n",
    "public_url = ngrok.connect(8501)\n",
    "print(f\"Streamlit app is running at: {public_url}\")\n",
    "\n",
    "# Running Streamlit app in the background\n",
    "!streamlit run luminare_app.py &"
   ]
  }
 ],
 "metadata": {
  "kernelspec": {
   "display_name": "Python 3 (ipykernel)",
   "language": "python",
   "name": "python3"
  },
  "language_info": {
   "codemirror_mode": {
    "name": "ipython",
    "version": 3
   },
   "file_extension": ".py",
   "mimetype": "text/x-python",
   "name": "python",
   "nbconvert_exporter": "python",
   "pygments_lexer": "ipython3",
   "version": "3.10.7"
  }
 },
 "nbformat": 4,
 "nbformat_minor": 5
}
